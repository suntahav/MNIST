{
 "cells": [
  {
   "cell_type": "code",
   "execution_count": 1,
   "metadata": {},
   "outputs": [
    {
     "name": "stderr",
     "output_type": "stream",
     "text": [
      "C:\\Users\\Sandstorm\\Anaconda3\\lib\\site-packages\\h5py\\__init__.py:36: FutureWarning: Conversion of the second argument of issubdtype from `float` to `np.floating` is deprecated. In future, it will be treated as `np.float64 == np.dtype(float).type`.\n",
      "  from ._conv import register_converters as _register_converters\n"
     ]
    }
   ],
   "source": [
    "from tensorflow.contrib.learn.python.learn.datasets.mnist import extract_images,extract_labels"
   ]
  },
  {
   "cell_type": "code",
   "execution_count": 2,
   "metadata": {},
   "outputs": [
    {
     "name": "stdout",
     "output_type": "stream",
     "text": [
      "WARNING:tensorflow:From <ipython-input-2-f163beb5ece4>:2: extract_images (from tensorflow.contrib.learn.python.learn.datasets.mnist) is deprecated and will be removed in a future version.\n",
      "Instructions for updating:\n",
      "Please use tf.data to implement this functionality.\n",
      "Extracting ./data/train-images-idx3-ubyte.gz\n",
      "Extracting ./data/t10k-images-idx3-ubyte.gz\n",
      "WARNING:tensorflow:From <ipython-input-2-f163beb5ece4>:8: extract_labels (from tensorflow.contrib.learn.python.learn.datasets.mnist) is deprecated and will be removed in a future version.\n",
      "Instructions for updating:\n",
      "Please use tf.data to implement this functionality.\n",
      "Extracting ./data/train-labels-idx1-ubyte.gz\n",
      "Extracting ./data/t10k-labels-idx1-ubyte.gz\n"
     ]
    }
   ],
   "source": [
    "with open('./data/train-images-idx3-ubyte.gz','rb') as f:\n",
    "    X_train = extract_images(f)\n",
    "\n",
    "with open('./data/t10k-images-idx3-ubyte.gz','rb') as f:\n",
    "    X_test = extract_images(f)\n",
    "\n",
    "with open('./data/train-labels-idx1-ubyte.gz','rb') as f:\n",
    "    y_train = extract_labels(f)\n",
    "    \n",
    "with open('./data/t10k-labels-idx1-ubyte.gz','rb') as f:\n",
    "    y_test = extract_labels(f)"
   ]
  },
  {
   "cell_type": "code",
   "execution_count": 8,
   "metadata": {},
   "outputs": [],
   "source": [
    "#reshape \n",
    "X_train = X_train.reshape(60000,784)\n",
    "X_test  = X_test.reshape(10000,784)\n",
    "X_train = X_train.astype('float32')\n",
    "X_test  = X_test.astype('float32')\n",
    "X_train = X_train/255\n",
    "X_test  = X_test/255"
   ]
  },
  {
   "cell_type": "code",
   "execution_count": 11,
   "metadata": {},
   "outputs": [],
   "source": [
    "from keras.models import Sequential\n",
    "from keras.layers.core import Dense,Dropout\n",
    "from keras.utils import np_utils"
   ]
  },
  {
   "cell_type": "code",
   "execution_count": 12,
   "metadata": {},
   "outputs": [],
   "source": [
    "#One Hot Encoding\n",
    "total_classes = 10\n",
    "y_train = np_utils.to_categorical(y_train,num_classes=total_classes)\n",
    "y_test  = np_utils.to_categorical(y_test,num_classes=total_classes)"
   ]
  },
  {
   "cell_type": "code",
   "execution_count": 15,
   "metadata": {},
   "outputs": [
    {
     "data": {
      "text/plain": [
       "array([0., 0., 0., 0., 0., 1., 0., 0., 0., 0.], dtype=float32)"
      ]
     },
     "execution_count": 15,
     "metadata": {},
     "output_type": "execute_result"
    }
   ],
   "source": [
    "y_train[0]"
   ]
  },
  {
   "cell_type": "code",
   "execution_count": 30,
   "metadata": {},
   "outputs": [],
   "source": [
    "#model building\n",
    "classifier = Sequential()\n",
    "classifier.add(Dense(512,input_shape=(784,),activation='relu'))\n",
    "classifier.add(Dropout(0.17))\n",
    "classifier.add(Dense(317,activation='relu'))\n",
    "classifier.add(Dropout(0.17))\n",
    "classifier.add(Dense(10,activation='softmax'))"
   ]
  },
  {
   "cell_type": "code",
   "execution_count": 31,
   "metadata": {},
   "outputs": [],
   "source": [
    "classifier.compile(optimizer='adam',loss='categorical_crossentropy',metrics=['accuracy'])"
   ]
  },
  {
   "cell_type": "code",
   "execution_count": 32,
   "metadata": {},
   "outputs": [
    {
     "name": "stdout",
     "output_type": "stream",
     "text": [
      "Train on 60000 samples, validate on 10000 samples\n",
      "Epoch 1/20\n",
      " - 4s - loss: 0.2271 - acc: 0.9303 - val_loss: 0.0994 - val_acc: 0.9674\n",
      "Epoch 2/20\n",
      " - 3s - loss: 0.0974 - acc: 0.9696 - val_loss: 0.0783 - val_acc: 0.9755\n",
      "Epoch 3/20\n",
      " - 3s - loss: 0.0731 - acc: 0.9764 - val_loss: 0.0795 - val_acc: 0.9744\n",
      "Epoch 4/20\n",
      " - 3s - loss: 0.0567 - acc: 0.9812 - val_loss: 0.0657 - val_acc: 0.9791\n",
      "Epoch 5/20\n",
      " - 3s - loss: 0.0456 - acc: 0.9854 - val_loss: 0.0724 - val_acc: 0.9781\n",
      "Epoch 6/20\n",
      " - 3s - loss: 0.0407 - acc: 0.9864 - val_loss: 0.0775 - val_acc: 0.9766\n",
      "Epoch 7/20\n",
      " - 3s - loss: 0.0357 - acc: 0.9887 - val_loss: 0.0745 - val_acc: 0.9805\n",
      "Epoch 8/20\n",
      " - 3s - loss: 0.0312 - acc: 0.9897 - val_loss: 0.0784 - val_acc: 0.9815\n",
      "Epoch 9/20\n",
      " - 3s - loss: 0.0289 - acc: 0.9902 - val_loss: 0.0905 - val_acc: 0.9771\n",
      "Epoch 10/20\n",
      " - 3s - loss: 0.0260 - acc: 0.9917 - val_loss: 0.0754 - val_acc: 0.9813\n",
      "Epoch 11/20\n",
      " - 3s - loss: 0.0236 - acc: 0.9926 - val_loss: 0.0794 - val_acc: 0.9785\n",
      "Epoch 12/20\n",
      " - 3s - loss: 0.0253 - acc: 0.9918 - val_loss: 0.0763 - val_acc: 0.9820\n",
      "Epoch 13/20\n",
      " - 3s - loss: 0.0210 - acc: 0.9928 - val_loss: 0.0754 - val_acc: 0.9830\n",
      "Epoch 14/20\n",
      " - 3s - loss: 0.0236 - acc: 0.9927 - val_loss: 0.0650 - val_acc: 0.9835\n",
      "Epoch 15/20\n",
      " - 3s - loss: 0.0199 - acc: 0.9933 - val_loss: 0.0947 - val_acc: 0.9808\n",
      "Epoch 16/20\n",
      " - 3s - loss: 0.0183 - acc: 0.9940 - val_loss: 0.0883 - val_acc: 0.9826\n",
      "Epoch 17/20\n",
      " - 3s - loss: 0.0203 - acc: 0.9937 - val_loss: 0.0867 - val_acc: 0.9808\n",
      "Epoch 18/20\n",
      " - 3s - loss: 0.0179 - acc: 0.9942 - val_loss: 0.0940 - val_acc: 0.9808\n",
      "Epoch 19/20\n",
      " - 3s - loss: 0.0160 - acc: 0.9947 - val_loss: 0.0894 - val_acc: 0.9822\n",
      "Epoch 20/20\n",
      " - 3s - loss: 0.0154 - acc: 0.9948 - val_loss: 0.0924 - val_acc: 0.9813\n"
     ]
    }
   ],
   "source": [
    "result = classifier.fit(X_train,y_train,batch_size=64,epochs=20,verbose=2,validation_data=(X_test,y_test))"
   ]
  },
  {
   "cell_type": "code",
   "execution_count": null,
   "metadata": {},
   "outputs": [],
   "source": []
  }
 ],
 "metadata": {
  "kernelspec": {
   "display_name": "Python 3",
   "language": "python",
   "name": "python3"
  },
  "language_info": {
   "codemirror_mode": {
    "name": "ipython",
    "version": 3
   },
   "file_extension": ".py",
   "mimetype": "text/x-python",
   "name": "python",
   "nbconvert_exporter": "python",
   "pygments_lexer": "ipython3",
   "version": "3.6.5"
  }
 },
 "nbformat": 4,
 "nbformat_minor": 2
}
